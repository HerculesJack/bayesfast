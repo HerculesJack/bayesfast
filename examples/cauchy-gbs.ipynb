{
 "cells": [
  {
   "cell_type": "code",
   "execution_count": 1,
   "metadata": {},
   "outputs": [],
   "source": [
    "import bayesfast as bf\n",
    "import numpy as np"
   ]
  },
  {
   "cell_type": "code",
   "execution_count": 2,
   "metadata": {},
   "outputs": [],
   "source": [
    "D = 48 # number of dims\n",
    "a = 5.\n",
    "lower = np.full(D, -100.) # lower bound of the prior\n",
    "upper = np.full(D, 100.) # upper bound of the prior\n",
    "bound = np.array((lower, upper)).T\n",
    "diff = bound[:, 1] - bound[:, 0]\n",
    "const = np.sum(np.log(diff)) # normalization of the flat prior\n",
    "\n",
    "def logp(x):\n",
    "    _a = 1 / ((x + a)**2 + 1)\n",
    "    _b = 1 / ((x - a)**2 + 1)\n",
    "    return (np.sum(np.log(_a + _b), axis=-1) + x.shape[-1] * np.log(0.5 / np.pi)\n",
    "            - const)\n",
    "\n",
    "def grad(x):\n",
    "    _a = 1 / ((x + a)**2 + 1)\n",
    "    _b = 1 / ((x - a)**2 + 1)\n",
    "    return -2 * ((x + a) / ((x + a)**2 + 1)**2 + \n",
    "                 (x - a) / ((x - a)**2 + 1)**2) / (_a + _b)"
   ]
  },
  {
   "cell_type": "code",
   "execution_count": 3,
   "metadata": {},
   "outputs": [
    {
     "data": {
      "text/html": [
       "<table style=\"border: 2px solid white;\">\n",
       "<tr>\n",
       "<td style=\"vertical-align: top; border: 0px solid white\">\n",
       "<h3 style=\"text-align: left;\">Client</h3>\n",
       "<ul style=\"text-align: left; list-style: none; margin: 0; padding: 0;\">\n",
       "  <li><b>Scheduler: </b>tcp://127.0.0.1:33107</li>\n",
       "  <li><b>Dashboard: </b><a href='http://127.0.0.1:8787/status' target='_blank'>http://127.0.0.1:8787/status</a></li>\n",
       "</ul>\n",
       "</td>\n",
       "<td style=\"vertical-align: top; border: 0px solid white\">\n",
       "<h3 style=\"text-align: left;\">Cluster</h3>\n",
       "<ul style=\"text-align: left; list-style:none; margin: 0; padding: 0;\">\n",
       "  <li><b>Workers: </b>8</li>\n",
       "  <li><b>Cores: </b>8</li>\n",
       "  <li><b>Memory: </b>126.70 GB</li>\n",
       "</ul>\n",
       "</td>\n",
       "</tr>\n",
       "</table>"
      ],
      "text/plain": [
       "<Client: 'tcp://127.0.0.1:33107' processes=8 threads=8, memory=126.70 GB>"
      ]
     },
     "execution_count": 3,
     "metadata": {},
     "output_type": "execute_result"
    }
   ],
   "source": [
    "from distributed import Client, LocalCluster\n",
    "cluster = LocalCluster(n_workers=8, threads_per_worker=1)\n",
    "client = Client(cluster)\n",
    "client"
   ]
  },
  {
   "cell_type": "code",
   "execution_count": 4,
   "metadata": {},
   "outputs": [],
   "source": [
    "den = bf.DensityLite(logp=logp, grad=grad, input_size=D, input_scales=bound,\n",
    "                     hard_bounds=True)\n",
    "sample_trace = {'n_chain': 8, 'n_iter': 2500, 'n_warmup': 1000}\n",
    "rec = bf.Recipe(density=den, sample={'sample_trace': sample_trace,\n",
    "                'random_state': 0}, post={}, client=client)"
   ]
  },
  {
   "cell_type": "code",
   "execution_count": 5,
   "metadata": {},
   "outputs": [
    {
     "name": "stdout",
     "output_type": "stream",
     "text": [
      " CHAIN #0 : sampling proceeding [ 500 / 2500 ], last 500 samples used 19.37 seconds. (warmup)\n",
      " CHAIN #1 : sampling proceeding [ 500 / 2500 ], last 500 samples used 25.92 seconds. (warmup)\n",
      " CHAIN #3 : sampling proceeding [ 500 / 2500 ], last 500 samples used 29.36 seconds. (warmup)\n",
      " CHAIN #2 : sampling proceeding [ 500 / 2500 ], last 500 samples used 33.22 seconds. (warmup)\n",
      " CHAIN #4 : sampling proceeding [ 500 / 2500 ], last 500 samples used 35.18 seconds. (warmup)\n",
      " CHAIN #6 : sampling proceeding [ 500 / 2500 ], last 500 samples used 37.89 seconds. (warmup)\n",
      " CHAIN #7 : sampling proceeding [ 500 / 2500 ], last 500 samples used 40.87 seconds. (warmup)\n",
      " CHAIN #0 : sampling proceeding [ 1000 / 2500 ], last 500 samples used 22.14 seconds. (warmup)\n",
      " CHAIN #3 : sampling proceeding [ 1000 / 2500 ], last 500 samples used 17.33 seconds. (warmup)\n",
      " CHAIN #5 : sampling proceeding [ 500 / 2500 ], last 500 samples used 51.15 seconds. (warmup)\n",
      " CHAIN #1 : sampling proceeding [ 1000 / 2500 ], last 500 samples used 30.60 seconds. (warmup)\n",
      " CHAIN #0 : sampling proceeding [ 1500 / 2500 ], last 500 samples used 22.99 seconds.\n",
      " CHAIN #2 : sampling proceeding [ 1000 / 2500 ], last 500 samples used 31.60 seconds. (warmup)\n",
      " CHAIN #3 : sampling proceeding [ 1500 / 2500 ], last 500 samples used 21.62 seconds.\n",
      " CHAIN #4 : sampling proceeding [ 1000 / 2500 ], last 500 samples used 34.75 seconds. (warmup)\n",
      " CHAIN #6 : sampling proceeding [ 1000 / 2500 ], last 500 samples used 32.36 seconds. (warmup)\n",
      " CHAIN #7 : sampling proceeding [ 1000 / 2500 ], last 500 samples used 30.69 seconds. (warmup)\n",
      " CHAIN #5 : sampling proceeding [ 1000 / 2500 ], last 500 samples used 27.77 seconds. (warmup)\n",
      " CHAIN #3 : sampling proceeding [ 2000 / 2500 ], last 500 samples used 17.85 seconds.\n",
      " CHAIN #0 : sampling proceeding [ 2000 / 2500 ], last 500 samples used 22.01 seconds.\n",
      " CHAIN #1 : sampling proceeding [ 1500 / 2500 ], last 500 samples used 35.05 seconds.\n",
      " CHAIN #2 : sampling proceeding [ 1500 / 2500 ], last 500 samples used 35.23 seconds.\n",
      " CHAIN #6 : sampling proceeding [ 1500 / 2500 ], last 500 samples used 30.17 seconds.\n",
      " CHAIN #4 : sampling proceeding [ 1500 / 2500 ], last 500 samples used 32.68 seconds.\n",
      " CHAIN #3 : sampling finished [ 2500 / 2500 ], obtained 2500 samples in 104.90 seconds.\n",
      " CHAIN #7 : sampling proceeding [ 1500 / 2500 ], last 500 samples used 33.65 seconds.\n",
      " CHAIN #5 : sampling proceeding [ 1500 / 2500 ], last 500 samples used 28.71 seconds.\n",
      " CHAIN #0 : sampling finished [ 2500 / 2500 ], obtained 2500 samples in 109.35 seconds.\n",
      " CHAIN #1 : sampling proceeding [ 2000 / 2500 ], last 500 samples used 28.62 seconds.\n",
      " CHAIN #6 : sampling proceeding [ 2000 / 2500 ], last 500 samples used 29.25 seconds.\n",
      " CHAIN #7 : sampling proceeding [ 2000 / 2500 ], last 500 samples used 27.32 seconds.\n",
      " CHAIN #2 : sampling proceeding [ 2000 / 2500 ], last 500 samples used 35.90 seconds.\n",
      " CHAIN #5 : sampling proceeding [ 2000 / 2500 ], last 500 samples used 28.57 seconds.\n",
      " CHAIN #4 : sampling proceeding [ 2000 / 2500 ], last 500 samples used 33.93 seconds.\n",
      " CHAIN #1 : sampling finished [ 2500 / 2500 ], obtained 2500 samples in 149.66 seconds.\n",
      " CHAIN #6 : sampling finished [ 2500 / 2500 ], obtained 2500 samples in 160.31 seconds.\n",
      " CHAIN #7 : sampling finished [ 2500 / 2500 ], obtained 2500 samples in 160.68 seconds.\n",
      " CHAIN #5 : sampling finished [ 2500 / 2500 ], obtained 2500 samples in 162.02 seconds.\n",
      " CHAIN #4 : sampling finished [ 2500 / 2500 ], obtained 2500 samples in 163.03 seconds.\n",
      " CHAIN #2 : sampling finished [ 2500 / 2500 ], obtained 2500 samples in 173.12 seconds.\n",
      "\n",
      " *** SampleStep proceeding: iter #0 finished. *** \n",
      "\n",
      " ***** SampleStep finished. ***** \n",
      "\n"
     ]
    },
    {
     "name": "stderr",
     "output_type": "stream",
     "text": [
      "/global/homes/h/hejia/.conda/envs/hejia@cori-2/lib/python3.6/site-packages/sklearn/decomposition/_fastica.py:120: ConvergenceWarning: FastICA did not converge. Consider increasing tolerance or the maximum number of iterations.\n",
      "  ConvergenceWarning)\n",
      "/global/homes/h/hejia/.conda/envs/hejia@cori-2/lib/python3.6/site-packages/sklearn/decomposition/_fastica.py:120: ConvergenceWarning: FastICA did not converge. Consider increasing tolerance or the maximum number of iterations.\n",
      "  ConvergenceWarning)\n",
      "/global/homes/h/hejia/.conda/envs/hejia@cori-2/lib/python3.6/site-packages/sklearn/decomposition/_fastica.py:120: ConvergenceWarning: FastICA did not converge. Consider increasing tolerance or the maximum number of iterations.\n",
      "  ConvergenceWarning)\n",
      "/global/homes/h/hejia/.conda/envs/hejia@cori-2/lib/python3.6/site-packages/sklearn/decomposition/_fastica.py:120: ConvergenceWarning: FastICA did not converge. Consider increasing tolerance or the maximum number of iterations.\n",
      "  ConvergenceWarning)\n",
      "/global/homes/h/hejia/.conda/envs/hejia@cori-2/lib/python3.6/site-packages/sklearn/decomposition/_fastica.py:120: ConvergenceWarning: FastICA did not converge. Consider increasing tolerance or the maximum number of iterations.\n",
      "  ConvergenceWarning)\n",
      "/global/homes/h/hejia/.conda/envs/hejia@cori-2/lib/python3.6/site-packages/sklearn/decomposition/_fastica.py:120: ConvergenceWarning: FastICA did not converge. Consider increasing tolerance or the maximum number of iterations.\n",
      "  ConvergenceWarning)\n",
      "/global/homes/h/hejia/.conda/envs/hejia@cori-2/lib/python3.6/site-packages/sklearn/decomposition/_fastica.py:120: ConvergenceWarning: FastICA did not converge. Consider increasing tolerance or the maximum number of iterations.\n",
      "  ConvergenceWarning)\n",
      "/global/homes/h/hejia/.conda/envs/hejia@cori-2/lib/python3.6/site-packages/sklearn/decomposition/_fastica.py:120: ConvergenceWarning: FastICA did not converge. Consider increasing tolerance or the maximum number of iterations.\n",
      "  ConvergenceWarning)\n",
      "/global/homes/h/hejia/.conda/envs/hejia@cori-2/lib/python3.6/site-packages/sklearn/decomposition/_fastica.py:120: ConvergenceWarning: FastICA did not converge. Consider increasing tolerance or the maximum number of iterations.\n",
      "  ConvergenceWarning)\n",
      "/global/u2/h/hejia/bayesfast/bayesfast/core/density.py:959: RuntimeWarning: use_surrogate will be ignored for DensityLite.\n",
      "  RuntimeWarning)\n"
     ]
    },
    {
     "name": "stdout",
     "output_type": "stream",
     "text": [
      " ***** PostStep finished. ***** \n",
      "\n"
     ]
    }
   ],
   "source": [
    "rec.run()"
   ]
  },
  {
   "cell_type": "code",
   "execution_count": 6,
   "metadata": {},
   "outputs": [
    {
     "data": {
      "text/plain": [
       "(-254.66024884466287, 0.08951702789853067)"
      ]
     },
     "execution_count": 6,
     "metadata": {},
     "output_type": "execute_result"
    }
   ],
   "source": [
    "rec.get().logz, rec.get().logz_err # fiducial value: logz = -254.627"
   ]
  },
  {
   "cell_type": "code",
   "execution_count": null,
   "metadata": {},
   "outputs": [],
   "source": []
  }
 ],
 "metadata": {
  "kernelspec": {
   "display_name": "hejia@cori-2",
   "language": "python",
   "name": "hejia-2"
  },
  "language_info": {
   "codemirror_mode": {
    "name": "ipython",
    "version": 3
   },
   "file_extension": ".py",
   "mimetype": "text/x-python",
   "name": "python",
   "nbconvert_exporter": "python",
   "pygments_lexer": "ipython3",
   "version": "3.6.10"
  }
 },
 "nbformat": 4,
 "nbformat_minor": 4
}
